{
 "cells": [
  {
   "cell_type": "markdown",
   "id": "6fb8eb51",
   "metadata": {},
   "source": [
    "# House Price Prediction Using Regularization for Surprise Housing"
   ]
  },
  {
   "cell_type": "markdown",
   "id": "b10ff8dc",
   "metadata": {},
   "source": [
    "## Importing and Reading data"
   ]
  },
  {
   "cell_type": "code",
   "execution_count": 1,
   "id": "5fd15d34",
   "metadata": {},
   "outputs": [],
   "source": [
    "# Supress warnings\n",
    "import warnings\n",
    "warnings.filterwarnings('ignore')"
   ]
  },
  {
   "cell_type": "code",
   "execution_count": 2,
   "id": "bd5bcbbe",
   "metadata": {},
   "outputs": [],
   "source": [
    "# import python libraries\n",
    "import pandas as pd\n",
    "import numpy as np"
   ]
  },
  {
   "cell_type": "code",
   "execution_count": 3,
   "id": "52877145",
   "metadata": {},
   "outputs": [
    {
     "data": {
      "text/html": [
       "<div>\n",
       "<style scoped>\n",
       "    .dataframe tbody tr th:only-of-type {\n",
       "        vertical-align: middle;\n",
       "    }\n",
       "\n",
       "    .dataframe tbody tr th {\n",
       "        vertical-align: top;\n",
       "    }\n",
       "\n",
       "    .dataframe thead th {\n",
       "        text-align: right;\n",
       "    }\n",
       "</style>\n",
       "<table border=\"1\" class=\"dataframe\">\n",
       "  <thead>\n",
       "    <tr style=\"text-align: right;\">\n",
       "      <th></th>\n",
       "      <th>Id</th>\n",
       "      <th>MSSubClass</th>\n",
       "      <th>MSZoning</th>\n",
       "      <th>LotFrontage</th>\n",
       "      <th>LotArea</th>\n",
       "      <th>Street</th>\n",
       "      <th>Alley</th>\n",
       "      <th>LotShape</th>\n",
       "      <th>LandContour</th>\n",
       "      <th>Utilities</th>\n",
       "      <th>...</th>\n",
       "      <th>PoolArea</th>\n",
       "      <th>PoolQC</th>\n",
       "      <th>Fence</th>\n",
       "      <th>MiscFeature</th>\n",
       "      <th>MiscVal</th>\n",
       "      <th>MoSold</th>\n",
       "      <th>YrSold</th>\n",
       "      <th>SaleType</th>\n",
       "      <th>SaleCondition</th>\n",
       "      <th>SalePrice</th>\n",
       "    </tr>\n",
       "  </thead>\n",
       "  <tbody>\n",
       "    <tr>\n",
       "      <th>0</th>\n",
       "      <td>1</td>\n",
       "      <td>60</td>\n",
       "      <td>RL</td>\n",
       "      <td>65.0</td>\n",
       "      <td>8450</td>\n",
       "      <td>Pave</td>\n",
       "      <td>NaN</td>\n",
       "      <td>Reg</td>\n",
       "      <td>Lvl</td>\n",
       "      <td>AllPub</td>\n",
       "      <td>...</td>\n",
       "      <td>0</td>\n",
       "      <td>NaN</td>\n",
       "      <td>NaN</td>\n",
       "      <td>NaN</td>\n",
       "      <td>0</td>\n",
       "      <td>2</td>\n",
       "      <td>2008</td>\n",
       "      <td>WD</td>\n",
       "      <td>Normal</td>\n",
       "      <td>208500</td>\n",
       "    </tr>\n",
       "    <tr>\n",
       "      <th>1</th>\n",
       "      <td>2</td>\n",
       "      <td>20</td>\n",
       "      <td>RL</td>\n",
       "      <td>80.0</td>\n",
       "      <td>9600</td>\n",
       "      <td>Pave</td>\n",
       "      <td>NaN</td>\n",
       "      <td>Reg</td>\n",
       "      <td>Lvl</td>\n",
       "      <td>AllPub</td>\n",
       "      <td>...</td>\n",
       "      <td>0</td>\n",
       "      <td>NaN</td>\n",
       "      <td>NaN</td>\n",
       "      <td>NaN</td>\n",
       "      <td>0</td>\n",
       "      <td>5</td>\n",
       "      <td>2007</td>\n",
       "      <td>WD</td>\n",
       "      <td>Normal</td>\n",
       "      <td>181500</td>\n",
       "    </tr>\n",
       "    <tr>\n",
       "      <th>2</th>\n",
       "      <td>3</td>\n",
       "      <td>60</td>\n",
       "      <td>RL</td>\n",
       "      <td>68.0</td>\n",
       "      <td>11250</td>\n",
       "      <td>Pave</td>\n",
       "      <td>NaN</td>\n",
       "      <td>IR1</td>\n",
       "      <td>Lvl</td>\n",
       "      <td>AllPub</td>\n",
       "      <td>...</td>\n",
       "      <td>0</td>\n",
       "      <td>NaN</td>\n",
       "      <td>NaN</td>\n",
       "      <td>NaN</td>\n",
       "      <td>0</td>\n",
       "      <td>9</td>\n",
       "      <td>2008</td>\n",
       "      <td>WD</td>\n",
       "      <td>Normal</td>\n",
       "      <td>223500</td>\n",
       "    </tr>\n",
       "    <tr>\n",
       "      <th>3</th>\n",
       "      <td>4</td>\n",
       "      <td>70</td>\n",
       "      <td>RL</td>\n",
       "      <td>60.0</td>\n",
       "      <td>9550</td>\n",
       "      <td>Pave</td>\n",
       "      <td>NaN</td>\n",
       "      <td>IR1</td>\n",
       "      <td>Lvl</td>\n",
       "      <td>AllPub</td>\n",
       "      <td>...</td>\n",
       "      <td>0</td>\n",
       "      <td>NaN</td>\n",
       "      <td>NaN</td>\n",
       "      <td>NaN</td>\n",
       "      <td>0</td>\n",
       "      <td>2</td>\n",
       "      <td>2006</td>\n",
       "      <td>WD</td>\n",
       "      <td>Abnorml</td>\n",
       "      <td>140000</td>\n",
       "    </tr>\n",
       "    <tr>\n",
       "      <th>4</th>\n",
       "      <td>5</td>\n",
       "      <td>60</td>\n",
       "      <td>RL</td>\n",
       "      <td>84.0</td>\n",
       "      <td>14260</td>\n",
       "      <td>Pave</td>\n",
       "      <td>NaN</td>\n",
       "      <td>IR1</td>\n",
       "      <td>Lvl</td>\n",
       "      <td>AllPub</td>\n",
       "      <td>...</td>\n",
       "      <td>0</td>\n",
       "      <td>NaN</td>\n",
       "      <td>NaN</td>\n",
       "      <td>NaN</td>\n",
       "      <td>0</td>\n",
       "      <td>12</td>\n",
       "      <td>2008</td>\n",
       "      <td>WD</td>\n",
       "      <td>Normal</td>\n",
       "      <td>250000</td>\n",
       "    </tr>\n",
       "  </tbody>\n",
       "</table>\n",
       "<p>5 rows × 81 columns</p>\n",
       "</div>"
      ],
      "text/plain": [
       "   Id  MSSubClass MSZoning  LotFrontage  LotArea Street Alley LotShape  \\\n",
       "0   1          60       RL         65.0     8450   Pave   NaN      Reg   \n",
       "1   2          20       RL         80.0     9600   Pave   NaN      Reg   \n",
       "2   3          60       RL         68.0    11250   Pave   NaN      IR1   \n",
       "3   4          70       RL         60.0     9550   Pave   NaN      IR1   \n",
       "4   5          60       RL         84.0    14260   Pave   NaN      IR1   \n",
       "\n",
       "  LandContour Utilities  ... PoolArea PoolQC Fence MiscFeature MiscVal MoSold  \\\n",
       "0         Lvl    AllPub  ...        0    NaN   NaN         NaN       0      2   \n",
       "1         Lvl    AllPub  ...        0    NaN   NaN         NaN       0      5   \n",
       "2         Lvl    AllPub  ...        0    NaN   NaN         NaN       0      9   \n",
       "3         Lvl    AllPub  ...        0    NaN   NaN         NaN       0      2   \n",
       "4         Lvl    AllPub  ...        0    NaN   NaN         NaN       0     12   \n",
       "\n",
       "  YrSold  SaleType  SaleCondition  SalePrice  \n",
       "0   2008        WD         Normal     208500  \n",
       "1   2007        WD         Normal     181500  \n",
       "2   2008        WD         Normal     223500  \n",
       "3   2006        WD        Abnorml     140000  \n",
       "4   2008        WD         Normal     250000  \n",
       "\n",
       "[5 rows x 81 columns]"
      ]
     },
     "execution_count": 3,
     "metadata": {},
     "output_type": "execute_result"
    }
   ],
   "source": [
    "# Importing dataset into 'train_df' python dataframe\n",
    "train_df = pd.read_csv('Datasets/train.csv')\n",
    "train_df.head()"
   ]
  },
  {
   "cell_type": "code",
   "execution_count": 4,
   "id": "05951b4e",
   "metadata": {},
   "outputs": [
    {
     "data": {
      "text/plain": [
       "(1460, 81)"
      ]
     },
     "execution_count": 4,
     "metadata": {},
     "output_type": "execute_result"
    }
   ],
   "source": [
    "# Let us see the shape of the data\n",
    "train_df.shape"
   ]
  },
  {
   "cell_type": "code",
   "execution_count": 5,
   "id": "f84eeb5b",
   "metadata": {},
   "outputs": [
    {
     "name": "stdout",
     "output_type": "stream",
     "text": [
      "<class 'pandas.core.frame.DataFrame'>\n",
      "RangeIndex: 1460 entries, 0 to 1459\n",
      "Data columns (total 81 columns):\n",
      " #   Column         Non-Null Count  Dtype  \n",
      "---  ------         --------------  -----  \n",
      " 0   Id             1460 non-null   int64  \n",
      " 1   MSSubClass     1460 non-null   int64  \n",
      " 2   MSZoning       1460 non-null   object \n",
      " 3   LotFrontage    1201 non-null   float64\n",
      " 4   LotArea        1460 non-null   int64  \n",
      " 5   Street         1460 non-null   object \n",
      " 6   Alley          91 non-null     object \n",
      " 7   LotShape       1460 non-null   object \n",
      " 8   LandContour    1460 non-null   object \n",
      " 9   Utilities      1460 non-null   object \n",
      " 10  LotConfig      1460 non-null   object \n",
      " 11  LandSlope      1460 non-null   object \n",
      " 12  Neighborhood   1460 non-null   object \n",
      " 13  Condition1     1460 non-null   object \n",
      " 14  Condition2     1460 non-null   object \n",
      " 15  BldgType       1460 non-null   object \n",
      " 16  HouseStyle     1460 non-null   object \n",
      " 17  OverallQual    1460 non-null   int64  \n",
      " 18  OverallCond    1460 non-null   int64  \n",
      " 19  YearBuilt      1460 non-null   int64  \n",
      " 20  YearRemodAdd   1460 non-null   int64  \n",
      " 21  RoofStyle      1460 non-null   object \n",
      " 22  RoofMatl       1460 non-null   object \n",
      " 23  Exterior1st    1460 non-null   object \n",
      " 24  Exterior2nd    1460 non-null   object \n",
      " 25  MasVnrType     1452 non-null   object \n",
      " 26  MasVnrArea     1452 non-null   float64\n",
      " 27  ExterQual      1460 non-null   object \n",
      " 28  ExterCond      1460 non-null   object \n",
      " 29  Foundation     1460 non-null   object \n",
      " 30  BsmtQual       1423 non-null   object \n",
      " 31  BsmtCond       1423 non-null   object \n",
      " 32  BsmtExposure   1422 non-null   object \n",
      " 33  BsmtFinType1   1423 non-null   object \n",
      " 34  BsmtFinSF1     1460 non-null   int64  \n",
      " 35  BsmtFinType2   1422 non-null   object \n",
      " 36  BsmtFinSF2     1460 non-null   int64  \n",
      " 37  BsmtUnfSF      1460 non-null   int64  \n",
      " 38  TotalBsmtSF    1460 non-null   int64  \n",
      " 39  Heating        1460 non-null   object \n",
      " 40  HeatingQC      1460 non-null   object \n",
      " 41  CentralAir     1460 non-null   object \n",
      " 42  Electrical     1459 non-null   object \n",
      " 43  1stFlrSF       1460 non-null   int64  \n",
      " 44  2ndFlrSF       1460 non-null   int64  \n",
      " 45  LowQualFinSF   1460 non-null   int64  \n",
      " 46  GrLivArea      1460 non-null   int64  \n",
      " 47  BsmtFullBath   1460 non-null   int64  \n",
      " 48  BsmtHalfBath   1460 non-null   int64  \n",
      " 49  FullBath       1460 non-null   int64  \n",
      " 50  HalfBath       1460 non-null   int64  \n",
      " 51  BedroomAbvGr   1460 non-null   int64  \n",
      " 52  KitchenAbvGr   1460 non-null   int64  \n",
      " 53  KitchenQual    1460 non-null   object \n",
      " 54  TotRmsAbvGrd   1460 non-null   int64  \n",
      " 55  Functional     1460 non-null   object \n",
      " 56  Fireplaces     1460 non-null   int64  \n",
      " 57  FireplaceQu    770 non-null    object \n",
      " 58  GarageType     1379 non-null   object \n",
      " 59  GarageYrBlt    1379 non-null   float64\n",
      " 60  GarageFinish   1379 non-null   object \n",
      " 61  GarageCars     1460 non-null   int64  \n",
      " 62  GarageArea     1460 non-null   int64  \n",
      " 63  GarageQual     1379 non-null   object \n",
      " 64  GarageCond     1379 non-null   object \n",
      " 65  PavedDrive     1460 non-null   object \n",
      " 66  WoodDeckSF     1460 non-null   int64  \n",
      " 67  OpenPorchSF    1460 non-null   int64  \n",
      " 68  EnclosedPorch  1460 non-null   int64  \n",
      " 69  3SsnPorch      1460 non-null   int64  \n",
      " 70  ScreenPorch    1460 non-null   int64  \n",
      " 71  PoolArea       1460 non-null   int64  \n",
      " 72  PoolQC         7 non-null      object \n",
      " 73  Fence          281 non-null    object \n",
      " 74  MiscFeature    54 non-null     object \n",
      " 75  MiscVal        1460 non-null   int64  \n",
      " 76  MoSold         1460 non-null   int64  \n",
      " 77  YrSold         1460 non-null   int64  \n",
      " 78  SaleType       1460 non-null   object \n",
      " 79  SaleCondition  1460 non-null   object \n",
      " 80  SalePrice      1460 non-null   int64  \n",
      "dtypes: float64(3), int64(35), object(43)\n",
      "memory usage: 924.0+ KB\n"
     ]
    }
   ],
   "source": [
    "# Let us check for the null values\n",
    "train_df.info()"
   ]
  },
  {
   "cell_type": "markdown",
   "id": "d3882e3b",
   "metadata": {},
   "source": [
    "We have 19 fields with Null values, let us print the field names."
   ]
  },
  {
   "cell_type": "code",
   "execution_count": 6,
   "id": "d6a3ef40",
   "metadata": {},
   "outputs": [
    {
     "data": {
      "text/plain": [
       "['LotFrontage',\n",
       " 'Alley',\n",
       " 'MasVnrType',\n",
       " 'MasVnrArea',\n",
       " 'BsmtQual',\n",
       " 'BsmtCond',\n",
       " 'BsmtExposure',\n",
       " 'BsmtFinType1',\n",
       " 'BsmtFinType2',\n",
       " 'Electrical',\n",
       " 'FireplaceQu',\n",
       " 'GarageType',\n",
       " 'GarageYrBlt',\n",
       " 'GarageFinish',\n",
       " 'GarageQual',\n",
       " 'GarageCond',\n",
       " 'PoolQC',\n",
       " 'Fence',\n",
       " 'MiscFeature']"
      ]
     },
     "execution_count": 6,
     "metadata": {},
     "output_type": "execute_result"
    }
   ],
   "source": [
    "train_df.columns[train_df.isna().any()].to_list()"
   ]
  },
  {
   "cell_type": "markdown",
   "id": "87435552",
   "metadata": {},
   "source": [
    "### Fixing Null values in the Numerical fields \n",
    "#### Updating Null values in the numerical field 'Alley'"
   ]
  },
  {
   "cell_type": "markdown",
   "id": "3aa76c10",
   "metadata": {},
   "source": [
    "Let us check the values in the field \"Alley\""
   ]
  },
  {
   "cell_type": "code",
   "execution_count": 7,
   "id": "2961b39d",
   "metadata": {},
   "outputs": [
    {
     "data": {
      "text/plain": [
       "Grvl    50\n",
       "Pave    41\n",
       "Name: Alley, dtype: int64"
      ]
     },
     "execution_count": 7,
     "metadata": {},
     "output_type": "execute_result"
    }
   ],
   "source": [
    "train_df.Alley.value_counts()"
   ]
  },
  {
   "cell_type": "markdown",
   "id": "55516741",
   "metadata": {},
   "source": [
    "Based on Data Description, Let us fill value 'No alley access' in the field \"Alley\"."
   ]
  },
  {
   "cell_type": "code",
   "execution_count": 8,
   "id": "57300e1e",
   "metadata": {},
   "outputs": [
    {
     "data": {
      "text/plain": [
       "0       No alley access\n",
       "1       No alley access\n",
       "2       No alley access\n",
       "3       No alley access\n",
       "4       No alley access\n",
       "             ...       \n",
       "1455    No alley access\n",
       "1456    No alley access\n",
       "1457    No alley access\n",
       "1458    No alley access\n",
       "1459    No alley access\n",
       "Name: Alley, Length: 1460, dtype: object"
      ]
     },
     "execution_count": 8,
     "metadata": {},
     "output_type": "execute_result"
    }
   ],
   "source": [
    "train_df.Alley = train_df.Alley.fillna('No alley access')\n",
    "train_df.Alley"
   ]
  },
  {
   "cell_type": "markdown",
   "id": "a4224a91",
   "metadata": {},
   "source": [
    "Let us check the value count now."
   ]
  },
  {
   "cell_type": "code",
   "execution_count": 53,
   "id": "06115383",
   "metadata": {},
   "outputs": [
    {
     "data": {
      "text/plain": [
       "No alley access    1369\n",
       "Grvl                 50\n",
       "Pave                 41\n",
       "Name: Alley, dtype: int64"
      ]
     },
     "execution_count": 53,
     "metadata": {},
     "output_type": "execute_result"
    }
   ],
   "source": [
    "train_df.Alley.value_counts()"
   ]
  },
  {
   "cell_type": "code",
   "execution_count": 58,
   "id": "eb903a5e",
   "metadata": {},
   "outputs": [
    {
     "data": {
      "text/plain": [
       "1369"
      ]
     },
     "execution_count": 58,
     "metadata": {},
     "output_type": "execute_result"
    }
   ],
   "source": [
    "# Checking a data item with max occurence in the column\n",
    "train_df.Alley.value_counts().max()"
   ]
  },
  {
   "cell_type": "code",
   "execution_count": 59,
   "id": "091fb7ae",
   "metadata": {},
   "outputs": [
    {
     "data": {
      "text/plain": [
       "1460"
      ]
     },
     "execution_count": 59,
     "metadata": {},
     "output_type": "execute_result"
    }
   ],
   "source": [
    "# Total number of records\n",
    "len(train_df.Alley)"
   ]
  },
  {
   "cell_type": "code",
   "execution_count": 57,
   "id": "773afaeb",
   "metadata": {},
   "outputs": [
    {
     "data": {
      "text/plain": [
       "93.76712328767123"
      ]
     },
     "execution_count": 57,
     "metadata": {},
     "output_type": "execute_result"
    }
   ],
   "source": [
    "1369/1460*100"
   ]
  },
  {
   "cell_type": "markdown",
   "id": "dedd21ad",
   "metadata": {},
   "source": [
    "Thus we have overall 94% occurence of a single value 'No alley access\" in this column. Thus we can remove this column as this is not usefull column for our analysis."
   ]
  },
  {
   "cell_type": "code",
   "execution_count": 60,
   "id": "de1258be",
   "metadata": {},
   "outputs": [
    {
     "data": {
      "text/plain": [
       "['Alley']"
      ]
     },
     "execution_count": 60,
     "metadata": {},
     "output_type": "execute_result"
    }
   ],
   "source": [
    "Cols_to_remove = ['Alley']\n",
    "Cols_to_remove"
   ]
  },
  {
   "cell_type": "markdown",
   "id": "0e835d66",
   "metadata": {},
   "source": [
    "#### Updating Null values in the numerical field 'BsmtQual' and 'BsmtCond'"
   ]
  },
  {
   "cell_type": "code",
   "execution_count": 61,
   "id": "b85d80f5",
   "metadata": {},
   "outputs": [
    {
     "data": {
      "text/plain": [
       "TA    649\n",
       "Gd    618\n",
       "Ex    121\n",
       "NA     37\n",
       "Fa     35\n",
       "Name: BsmtQual, dtype: int64"
      ]
     },
     "execution_count": 61,
     "metadata": {},
     "output_type": "execute_result"
    }
   ],
   "source": [
    "# let us check for the values in the \"BsmtQual\" field\n",
    "train_df.BsmtQual.value_counts()"
   ]
  },
  {
   "cell_type": "code",
   "execution_count": 62,
   "id": "7dd9c127",
   "metadata": {},
   "outputs": [
    {
     "data": {
      "text/plain": [
       "TA    1311\n",
       "Gd      65\n",
       "Fa      45\n",
       "NA      37\n",
       "Po       2\n",
       "Name: BsmtCond, dtype: int64"
      ]
     },
     "execution_count": 62,
     "metadata": {},
     "output_type": "execute_result"
    }
   ],
   "source": [
    "# let us check for the values in the \"BsmtCond\" field\n",
    "train_df.BsmtCond.value_counts()"
   ]
  },
  {
   "cell_type": "markdown",
   "id": "8dbe8721",
   "metadata": {},
   "source": [
    "Let us fill value 'NA' in the fields \"BsmtQual\" and \"BsmtCond\" to keep the consistency in the values."
   ]
  },
  {
   "cell_type": "code",
   "execution_count": 63,
   "id": "6adc5204",
   "metadata": {},
   "outputs": [
    {
     "data": {
      "text/plain": [
       "TA    649\n",
       "Gd    618\n",
       "Ex    121\n",
       "NA     37\n",
       "Fa     35\n",
       "Name: BsmtQual, dtype: int64"
      ]
     },
     "execution_count": 63,
     "metadata": {},
     "output_type": "execute_result"
    }
   ],
   "source": [
    "# Based on Data Description, Let us fill value 'NA' in the field \"BsmtQual\"\n",
    "train_df.BsmtQual = train_df.BsmtQual.fillna('NA')\n",
    "train_df.BsmtQual.value_counts()"
   ]
  },
  {
   "cell_type": "code",
   "execution_count": 64,
   "id": "1e4f42b9",
   "metadata": {},
   "outputs": [
    {
     "data": {
      "text/plain": [
       "TA    1311\n",
       "Gd      65\n",
       "Fa      45\n",
       "NA      37\n",
       "Po       2\n",
       "Name: BsmtCond, dtype: int64"
      ]
     },
     "execution_count": 64,
     "metadata": {},
     "output_type": "execute_result"
    }
   ],
   "source": [
    "# Based on Data Description, Let us fill value 'NA' in the field \"BsmtCond\"\n",
    "train_df.BsmtCond = train_df.BsmtCond.fillna('NA')\n",
    "train_df.BsmtCond.value_counts()"
   ]
  },
  {
   "cell_type": "code",
   "execution_count": 66,
   "id": "397f6335",
   "metadata": {},
   "outputs": [
    {
     "name": "stdout",
     "output_type": "stream",
     "text": [
      "44.45205479452055\n",
      "89.7945205479452\n"
     ]
    }
   ],
   "source": [
    "# Let us check for the % of the data items occured max times in both the fields\n",
    "print(train_df.BsmtQual.value_counts().max()/1460*100)\n",
    "print(train_df.BsmtCond.value_counts().max()/1460*100)"
   ]
  },
  {
   "cell_type": "markdown",
   "id": "d8c56379",
   "metadata": {},
   "source": [
    "If we consider a threshold of 80%, field 'BsmtCond' can be removed."
   ]
  },
  {
   "cell_type": "code",
   "execution_count": 67,
   "id": "5350e01f",
   "metadata": {},
   "outputs": [
    {
     "data": {
      "text/plain": [
       "['Alley', 'BsmtCond']"
      ]
     },
     "execution_count": 67,
     "metadata": {},
     "output_type": "execute_result"
    }
   ],
   "source": [
    "Cols_to_remove.append('BsmtCond')\n",
    "Cols_to_remove"
   ]
  },
  {
   "cell_type": "markdown",
   "id": "65c52631",
   "metadata": {},
   "source": [
    "#### Updating Null values in the numerical field 'BsmtExposure'"
   ]
  },
  {
   "cell_type": "code",
   "execution_count": 13,
   "id": "fbad5848",
   "metadata": {},
   "outputs": [
    {
     "data": {
      "text/plain": [
       "No    953\n",
       "Av    221\n",
       "Gd    134\n",
       "Mn    114\n",
       "Name: BsmtExposure, dtype: int64"
      ]
     },
     "execution_count": 13,
     "metadata": {},
     "output_type": "execute_result"
    }
   ],
   "source": [
    "# let us check for the values in the \"BsmtExposure\" field\n",
    "train_df.BsmtExposure.value_counts()"
   ]
  },
  {
   "cell_type": "code",
   "execution_count": 14,
   "id": "77e0b94e",
   "metadata": {},
   "outputs": [
    {
     "data": {
      "text/plain": [
       "No    953\n",
       "Av    221\n",
       "Gd    134\n",
       "Mn    114\n",
       "NA     38\n",
       "Name: BsmtExposure, dtype: int64"
      ]
     },
     "execution_count": 14,
     "metadata": {},
     "output_type": "execute_result"
    }
   ],
   "source": [
    "# Based on Data Description, Let us fill value 'NA' in the field \"BsmtExposure\" for 'No Basement' \n",
    "train_df.BsmtExposure = train_df.BsmtExposure.fillna('NA')\n",
    "train_df.BsmtExposure.value_counts()"
   ]
  },
  {
   "cell_type": "code",
   "execution_count": 68,
   "id": "d4cda7c2",
   "metadata": {},
   "outputs": [
    {
     "name": "stdout",
     "output_type": "stream",
     "text": [
      "65.27397260273973\n"
     ]
    }
   ],
   "source": [
    "# Let us check for the % of the data items occured max times in this fields\n",
    "print(train_df.BsmtExposure.value_counts().max()/1460*100)"
   ]
  },
  {
   "cell_type": "markdown",
   "id": "301dfc11",
   "metadata": {},
   "source": [
    "This is below 80%, hence, we will not remove this field. <br/>\n",
    "Let us cross-check all the columns after checking the Null values."
   ]
  },
  {
   "cell_type": "markdown",
   "id": "a7366ad7",
   "metadata": {},
   "source": [
    "#### Updating Null values in the numerical field 'BsmtFinType1'"
   ]
  },
  {
   "cell_type": "code",
   "execution_count": 15,
   "id": "c6901c20",
   "metadata": {},
   "outputs": [
    {
     "data": {
      "text/plain": [
       "Unf    430\n",
       "GLQ    418\n",
       "ALQ    220\n",
       "BLQ    148\n",
       "Rec    133\n",
       "LwQ     74\n",
       "Name: BsmtFinType1, dtype: int64"
      ]
     },
     "execution_count": 15,
     "metadata": {},
     "output_type": "execute_result"
    }
   ],
   "source": [
    "# let us check for the values in the \"BsmtFinType1\" field\n",
    "train_df.BsmtFinType1.value_counts()"
   ]
  },
  {
   "cell_type": "code",
   "execution_count": 16,
   "id": "bf897cb2",
   "metadata": {},
   "outputs": [
    {
     "data": {
      "text/plain": [
       "Unf    430\n",
       "GLQ    418\n",
       "ALQ    220\n",
       "BLQ    148\n",
       "Rec    133\n",
       "LwQ     74\n",
       "NA      37\n",
       "Name: BsmtFinType1, dtype: int64"
      ]
     },
     "execution_count": 16,
     "metadata": {},
     "output_type": "execute_result"
    }
   ],
   "source": [
    "# Based on Data Description, Let us fill value 'NA' in the field \"BsmtFinType1\" for 'No Basement' \n",
    "train_df.BsmtFinType1 = train_df.BsmtFinType1.fillna('NA')\n",
    "train_df.BsmtFinType1.value_counts()"
   ]
  },
  {
   "cell_type": "markdown",
   "id": "f1a44a5e",
   "metadata": {},
   "source": [
    "#### Updating Null values in the numerical field 'BsmtFinType2'"
   ]
  },
  {
   "cell_type": "code",
   "execution_count": 17,
   "id": "62899639",
   "metadata": {},
   "outputs": [
    {
     "data": {
      "text/plain": [
       "Unf    1256\n",
       "Rec      54\n",
       "LwQ      46\n",
       "BLQ      33\n",
       "ALQ      19\n",
       "GLQ      14\n",
       "Name: BsmtFinType2, dtype: int64"
      ]
     },
     "execution_count": 17,
     "metadata": {},
     "output_type": "execute_result"
    }
   ],
   "source": [
    "# let us check for the values in the \"BsmtFinType2\" field\n",
    "train_df.BsmtFinType2.value_counts()"
   ]
  },
  {
   "cell_type": "code",
   "execution_count": 18,
   "id": "d1177867",
   "metadata": {},
   "outputs": [
    {
     "data": {
      "text/plain": [
       "Unf    1256\n",
       "Rec      54\n",
       "LwQ      46\n",
       "NA       38\n",
       "BLQ      33\n",
       "ALQ      19\n",
       "GLQ      14\n",
       "Name: BsmtFinType2, dtype: int64"
      ]
     },
     "execution_count": 18,
     "metadata": {},
     "output_type": "execute_result"
    }
   ],
   "source": [
    "# Based on Data Description, Let us fill value 'NA' in the field \"BsmtFinType2\" for 'No Basement' \n",
    "train_df.BsmtFinType2 = train_df.BsmtFinType2.fillna('NA')\n",
    "train_df.BsmtFinType2.value_counts()"
   ]
  },
  {
   "cell_type": "markdown",
   "id": "34314d4f",
   "metadata": {},
   "source": [
    "#### Updating Null values in the numerical field 'FireplaceQu'"
   ]
  },
  {
   "cell_type": "code",
   "execution_count": 19,
   "id": "962c0174",
   "metadata": {},
   "outputs": [
    {
     "data": {
      "text/plain": [
       "Gd    380\n",
       "TA    313\n",
       "Fa     33\n",
       "Ex     24\n",
       "Po     20\n",
       "Name: FireplaceQu, dtype: int64"
      ]
     },
     "execution_count": 19,
     "metadata": {},
     "output_type": "execute_result"
    }
   ],
   "source": [
    "# let us check for the values in the \"FireplaceQu\" field\n",
    "train_df.FireplaceQu.value_counts()"
   ]
  },
  {
   "cell_type": "code",
   "execution_count": 20,
   "id": "7e5c7f7a",
   "metadata": {},
   "outputs": [
    {
     "data": {
      "text/plain": [
       "NA    690\n",
       "Gd    380\n",
       "TA    313\n",
       "Fa     33\n",
       "Ex     24\n",
       "Po     20\n",
       "Name: FireplaceQu, dtype: int64"
      ]
     },
     "execution_count": 20,
     "metadata": {},
     "output_type": "execute_result"
    }
   ],
   "source": [
    "# Based on Data Description, Let us fill value 'NA' in the field \"FireplaceQu\" for 'No Fireplace' \n",
    "train_df.FireplaceQu = train_df.FireplaceQu.fillna('NA')\n",
    "train_df.FireplaceQu.value_counts()"
   ]
  },
  {
   "cell_type": "markdown",
   "id": "eb910adf",
   "metadata": {},
   "source": [
    "#### Updating Null values in the numerical field 'GarageType'"
   ]
  },
  {
   "cell_type": "code",
   "execution_count": 21,
   "id": "ca52c138",
   "metadata": {},
   "outputs": [
    {
     "data": {
      "text/plain": [
       "Attchd     870\n",
       "Detchd     387\n",
       "BuiltIn     88\n",
       "Basment     19\n",
       "CarPort      9\n",
       "2Types       6\n",
       "Name: GarageType, dtype: int64"
      ]
     },
     "execution_count": 21,
     "metadata": {},
     "output_type": "execute_result"
    }
   ],
   "source": [
    "# let us check for the values in the \"GarageType\" field\n",
    "train_df.GarageType.value_counts()"
   ]
  },
  {
   "cell_type": "code",
   "execution_count": 22,
   "id": "90176c19",
   "metadata": {},
   "outputs": [
    {
     "data": {
      "text/plain": [
       "Attchd     870\n",
       "Detchd     387\n",
       "BuiltIn     88\n",
       "NA          81\n",
       "Basment     19\n",
       "CarPort      9\n",
       "2Types       6\n",
       "Name: GarageType, dtype: int64"
      ]
     },
     "execution_count": 22,
     "metadata": {},
     "output_type": "execute_result"
    }
   ],
   "source": [
    "# Based on Data Description, Let us fill value 'NA' in the field \"GarageType\" for 'No Garage' \n",
    "train_df.GarageType = train_df.GarageType.fillna('NA')\n",
    "train_df.GarageType.value_counts()"
   ]
  },
  {
   "cell_type": "markdown",
   "id": "2f1e4d38",
   "metadata": {},
   "source": [
    "#### Updating Null values in the numerical field 'GarageFinish'"
   ]
  },
  {
   "cell_type": "code",
   "execution_count": 23,
   "id": "1d5176c1",
   "metadata": {},
   "outputs": [
    {
     "data": {
      "text/plain": [
       "Unf    605\n",
       "RFn    422\n",
       "Fin    352\n",
       "Name: GarageFinish, dtype: int64"
      ]
     },
     "execution_count": 23,
     "metadata": {},
     "output_type": "execute_result"
    }
   ],
   "source": [
    "# let us check for the values in the \"GarageFinish\" field\n",
    "train_df.GarageFinish.value_counts()"
   ]
  },
  {
   "cell_type": "code",
   "execution_count": 24,
   "id": "0d9f4413",
   "metadata": {},
   "outputs": [
    {
     "data": {
      "text/plain": [
       "Unf    605\n",
       "RFn    422\n",
       "Fin    352\n",
       "NA      81\n",
       "Name: GarageFinish, dtype: int64"
      ]
     },
     "execution_count": 24,
     "metadata": {},
     "output_type": "execute_result"
    }
   ],
   "source": [
    "# Based on Data Description, Let us fill value 'NA' in the field \"GarageFinish\" as there is no Garage.\n",
    "train_df.GarageFinish = train_df.GarageFinish.fillna('NA')\n",
    "train_df.GarageFinish.value_counts()"
   ]
  },
  {
   "cell_type": "markdown",
   "id": "832362f4",
   "metadata": {},
   "source": [
    "#### Updating Null values in the numerical field 'GarageQual'"
   ]
  },
  {
   "cell_type": "code",
   "execution_count": 25,
   "id": "fd38fa58",
   "metadata": {},
   "outputs": [
    {
     "data": {
      "text/plain": [
       "TA    1311\n",
       "Fa      48\n",
       "Gd      14\n",
       "Ex       3\n",
       "Po       3\n",
       "Name: GarageQual, dtype: int64"
      ]
     },
     "execution_count": 25,
     "metadata": {},
     "output_type": "execute_result"
    }
   ],
   "source": [
    "# let us check for the values in the \"GarageQual\" field\n",
    "train_df.GarageQual.value_counts()"
   ]
  },
  {
   "cell_type": "code",
   "execution_count": 26,
   "id": "dd9b44a7",
   "metadata": {},
   "outputs": [
    {
     "data": {
      "text/plain": [
       "TA    1311\n",
       "NA      81\n",
       "Fa      48\n",
       "Gd      14\n",
       "Ex       3\n",
       "Po       3\n",
       "Name: GarageQual, dtype: int64"
      ]
     },
     "execution_count": 26,
     "metadata": {},
     "output_type": "execute_result"
    }
   ],
   "source": [
    "# Based on Data Description, Let us fill value 'NA' in the field \"GarageQual\" as there is no Garage.\n",
    "train_df.GarageQual = train_df.GarageQual.fillna('NA')\n",
    "train_df.GarageQual.value_counts()"
   ]
  },
  {
   "cell_type": "markdown",
   "id": "f581c03b",
   "metadata": {},
   "source": [
    "#### Updating Null values in the numerical field 'GarageCond'"
   ]
  },
  {
   "cell_type": "code",
   "execution_count": 27,
   "id": "2e9fe6bf",
   "metadata": {},
   "outputs": [
    {
     "data": {
      "text/plain": [
       "TA    1326\n",
       "Fa      35\n",
       "Gd       9\n",
       "Po       7\n",
       "Ex       2\n",
       "Name: GarageCond, dtype: int64"
      ]
     },
     "execution_count": 27,
     "metadata": {},
     "output_type": "execute_result"
    }
   ],
   "source": [
    "# let us check for the values in the \"GarageCond\" field\n",
    "train_df.GarageCond.value_counts()"
   ]
  },
  {
   "cell_type": "code",
   "execution_count": 28,
   "id": "56495f7c",
   "metadata": {},
   "outputs": [
    {
     "data": {
      "text/plain": [
       "TA    1326\n",
       "NA      81\n",
       "Fa      35\n",
       "Gd       9\n",
       "Po       7\n",
       "Ex       2\n",
       "Name: GarageCond, dtype: int64"
      ]
     },
     "execution_count": 28,
     "metadata": {},
     "output_type": "execute_result"
    }
   ],
   "source": [
    "# Based on Data Description, Let us fill value 'NA' in the field \"GarageCond\" as there is no Garage.\n",
    "train_df.GarageCond = train_df.GarageCond.fillna('NA')\n",
    "train_df.GarageCond.value_counts()"
   ]
  },
  {
   "cell_type": "markdown",
   "id": "4b60eb57",
   "metadata": {},
   "source": [
    "#### Updating Null values in the numerical field 'PoolQC'"
   ]
  },
  {
   "cell_type": "code",
   "execution_count": 29,
   "id": "fc76d4e4",
   "metadata": {},
   "outputs": [
    {
     "data": {
      "text/plain": [
       "Gd    3\n",
       "Ex    2\n",
       "Fa    2\n",
       "Name: PoolQC, dtype: int64"
      ]
     },
     "execution_count": 29,
     "metadata": {},
     "output_type": "execute_result"
    }
   ],
   "source": [
    "# let us check for the values in the \"PoolQC\" field\n",
    "train_df.PoolQC.value_counts()"
   ]
  },
  {
   "cell_type": "code",
   "execution_count": 30,
   "id": "512f2a3d",
   "metadata": {},
   "outputs": [
    {
     "data": {
      "text/plain": [
       "NA    1453\n",
       "Gd       3\n",
       "Ex       2\n",
       "Fa       2\n",
       "Name: PoolQC, dtype: int64"
      ]
     },
     "execution_count": 30,
     "metadata": {},
     "output_type": "execute_result"
    }
   ],
   "source": [
    "# Based on Data Description, Let us fill value 'NA' in the field \"PoolQC\" for 'No Pool'\n",
    "train_df.PoolQC = train_df.PoolQC.fillna('NA')\n",
    "train_df.PoolQC.value_counts()"
   ]
  },
  {
   "cell_type": "markdown",
   "id": "7273703c",
   "metadata": {},
   "source": [
    "#### Updating Null values in the numerical field 'Fence'"
   ]
  },
  {
   "cell_type": "code",
   "execution_count": 31,
   "id": "5933f673",
   "metadata": {},
   "outputs": [
    {
     "data": {
      "text/plain": [
       "MnPrv    157\n",
       "GdPrv     59\n",
       "GdWo      54\n",
       "MnWw      11\n",
       "Name: Fence, dtype: int64"
      ]
     },
     "execution_count": 31,
     "metadata": {},
     "output_type": "execute_result"
    }
   ],
   "source": [
    "# let us check for the values in the \"Fence\" field\n",
    "train_df.Fence.value_counts()"
   ]
  },
  {
   "cell_type": "code",
   "execution_count": 32,
   "id": "0332087e",
   "metadata": {},
   "outputs": [
    {
     "data": {
      "text/plain": [
       "NA       1179\n",
       "MnPrv     157\n",
       "GdPrv      59\n",
       "GdWo       54\n",
       "MnWw       11\n",
       "Name: Fence, dtype: int64"
      ]
     },
     "execution_count": 32,
     "metadata": {},
     "output_type": "execute_result"
    }
   ],
   "source": [
    "# Based on Data Description, Let us fill value 'NA' in the field \"Fence\" for 'No Fence'\n",
    "train_df.Fence = train_df.Fence.fillna('NA')\n",
    "train_df.Fence.value_counts()"
   ]
  },
  {
   "cell_type": "markdown",
   "id": "e614d3fc",
   "metadata": {},
   "source": [
    "#### Updating Null values in the numerical field 'MiscFeature'"
   ]
  },
  {
   "cell_type": "code",
   "execution_count": 33,
   "id": "265780cb",
   "metadata": {},
   "outputs": [
    {
     "data": {
      "text/plain": [
       "Shed    49\n",
       "Gar2     2\n",
       "Othr     2\n",
       "TenC     1\n",
       "Name: MiscFeature, dtype: int64"
      ]
     },
     "execution_count": 33,
     "metadata": {},
     "output_type": "execute_result"
    }
   ],
   "source": [
    "# let us check for the values in the \"MiscFeature\" field\n",
    "train_df.MiscFeature.value_counts()"
   ]
  },
  {
   "cell_type": "code",
   "execution_count": 34,
   "id": "c910ec6d",
   "metadata": {},
   "outputs": [
    {
     "data": {
      "text/plain": [
       "NA      1406\n",
       "Shed      49\n",
       "Gar2       2\n",
       "Othr       2\n",
       "TenC       1\n",
       "Name: MiscFeature, dtype: int64"
      ]
     },
     "execution_count": 34,
     "metadata": {},
     "output_type": "execute_result"
    }
   ],
   "source": [
    "# Based on Data Description, Let us fill value 'NA' in the field \"MiscFeature\" for 'None'\n",
    "train_df.MiscFeature = train_df.MiscFeature.fillna('NA')\n",
    "train_df.MiscFeature.value_counts()"
   ]
  },
  {
   "cell_type": "markdown",
   "id": "94c4e52c",
   "metadata": {},
   "source": [
    "#### Updating Null values in the numerical field 'MasVnrType'"
   ]
  },
  {
   "cell_type": "code",
   "execution_count": 35,
   "id": "52f40882",
   "metadata": {},
   "outputs": [
    {
     "data": {
      "text/plain": [
       "None       864\n",
       "BrkFace    445\n",
       "Stone      128\n",
       "BrkCmn      15\n",
       "Name: MasVnrType, dtype: int64"
      ]
     },
     "execution_count": 35,
     "metadata": {},
     "output_type": "execute_result"
    }
   ],
   "source": [
    "# let us check for the values in the \"MasVnrType\" field\n",
    "train_df.MasVnrType.value_counts()"
   ]
  },
  {
   "cell_type": "code",
   "execution_count": 36,
   "id": "81eeaecb",
   "metadata": {},
   "outputs": [
    {
     "data": {
      "text/plain": [
       "None       864\n",
       "BrkFace    445\n",
       "Stone      128\n",
       "BrkCmn      15\n",
       "NA           8\n",
       "Name: MasVnrType, dtype: int64"
      ]
     },
     "execution_count": 36,
     "metadata": {},
     "output_type": "execute_result"
    }
   ],
   "source": [
    "# Since there are only 8 Null values, let us update the Null values with NA.\n",
    "train_df.MasVnrType = train_df.MasVnrType.fillna('NA')\n",
    "train_df.MasVnrType.value_counts()"
   ]
  },
  {
   "cell_type": "markdown",
   "id": "52254c04",
   "metadata": {},
   "source": [
    "#### Updating Null values in the numerical field 'Electrical'"
   ]
  },
  {
   "cell_type": "code",
   "execution_count": 37,
   "id": "7e7bc551",
   "metadata": {},
   "outputs": [
    {
     "data": {
      "text/plain": [
       "SBrkr    1334\n",
       "FuseA      94\n",
       "FuseF      27\n",
       "FuseP       3\n",
       "Mix         1\n",
       "Name: Electrical, dtype: int64"
      ]
     },
     "execution_count": 37,
     "metadata": {},
     "output_type": "execute_result"
    }
   ],
   "source": [
    "# let us check for the values in the \"Electrical\" field\n",
    "train_df.Electrical.value_counts()"
   ]
  },
  {
   "cell_type": "code",
   "execution_count": 38,
   "id": "40898929",
   "metadata": {},
   "outputs": [
    {
     "data": {
      "text/plain": [
       "SBrkr    1334\n",
       "FuseA      94\n",
       "FuseF      27\n",
       "FuseP       3\n",
       "Mix         1\n",
       "NA          1\n",
       "Name: Electrical, dtype: int64"
      ]
     },
     "execution_count": 38,
     "metadata": {},
     "output_type": "execute_result"
    }
   ],
   "source": [
    "# Since there is only 1 Null values, let us update the Null value with None.\n",
    "train_df.Electrical = train_df.Electrical.fillna('NA')\n",
    "train_df.Electrical.value_counts()"
   ]
  },
  {
   "cell_type": "markdown",
   "id": "3fe8a7b0",
   "metadata": {},
   "source": [
    "### Fixing Null values in the Numerical fields \n",
    "#### Updating Null values in the numerical field 'LotFrontage'"
   ]
  },
  {
   "cell_type": "code",
   "execution_count": 39,
   "id": "12db9a97",
   "metadata": {},
   "outputs": [
    {
     "data": {
      "text/plain": [
       "21.0"
      ]
     },
     "execution_count": 39,
     "metadata": {},
     "output_type": "execute_result"
    }
   ],
   "source": [
    "# Let us check for the minimum value in the field 'LotFrontage'\n",
    "min(train_df.LotFrontage)"
   ]
  },
  {
   "cell_type": "markdown",
   "id": "968c0d4b",
   "metadata": {},
   "source": [
    "This means there is no 0 value in the field 'LotFrontage'. <br/>\n",
    "Let us update the median value of field 'LotFrontage' for Null values."
   ]
  },
  {
   "cell_type": "code",
   "execution_count": 40,
   "id": "74d208f8",
   "metadata": {},
   "outputs": [
    {
     "data": {
      "text/plain": [
       "69.0"
      ]
     },
     "execution_count": 40,
     "metadata": {},
     "output_type": "execute_result"
    }
   ],
   "source": [
    "LotFrontage_med = train_df.LotFrontage[train_df.LotFrontage!=0].median()\n",
    "LotFrontage_med"
   ]
  },
  {
   "cell_type": "code",
   "execution_count": 41,
   "id": "8ea332d8",
   "metadata": {},
   "outputs": [
    {
     "data": {
      "text/plain": [
       "70.04995836802665"
      ]
     },
     "execution_count": 41,
     "metadata": {},
     "output_type": "execute_result"
    }
   ],
   "source": [
    "# Let us check for the average of LotFrontage field.\n",
    "train_df.LotFrontage[train_df.LotFrontage!=0].mean()"
   ]
  },
  {
   "cell_type": "code",
   "execution_count": 42,
   "id": "5d888388",
   "metadata": {},
   "outputs": [],
   "source": [
    "# Both median value and the average value of the field 'LotFrontage' is almost close, \n",
    "# hence, let us update above median value in the field 'LotFrontage'\n",
    "train_df.LotFrontage = train_df.LotFrontage.fillna(LotFrontage_med)"
   ]
  },
  {
   "cell_type": "markdown",
   "id": "5a38ffff",
   "metadata": {},
   "source": [
    "#### Updating Null values in the numerical field 'MasVnrArea'"
   ]
  },
  {
   "cell_type": "code",
   "execution_count": 43,
   "id": "d335bb90",
   "metadata": {},
   "outputs": [
    {
     "data": {
      "text/plain": [
       "0.0       861\n",
       "180.0       8\n",
       "108.0       8\n",
       "72.0        8\n",
       "16.0        7\n",
       "         ... \n",
       "254.0       1\n",
       "255.0       1\n",
       "258.0       1\n",
       "259.0       1\n",
       "1600.0      1\n",
       "Name: MasVnrArea, Length: 327, dtype: int64"
      ]
     },
     "execution_count": 43,
     "metadata": {},
     "output_type": "execute_result"
    }
   ],
   "source": [
    "# Let us check for the values in the \"MasVnrArea\" field and if it contains value 0\n",
    "train_df.MasVnrArea.sort_values().value_counts()"
   ]
  },
  {
   "cell_type": "markdown",
   "id": "9b7019ae",
   "metadata": {},
   "source": [
    "Thus, there are 861 records with 0 vaulue. <br/>\n",
    "Let us check for the non-zero values."
   ]
  },
  {
   "cell_type": "code",
   "execution_count": 44,
   "id": "879851ce",
   "metadata": {},
   "outputs": [
    {
     "data": {
      "text/plain": [
       "180.0     8\n",
       "72.0      8\n",
       "108.0     8\n",
       "120.0     7\n",
       "16.0      7\n",
       "         ..\n",
       "297.0     1\n",
       "81.0      1\n",
       "299.0     1\n",
       "67.0      1\n",
       "1600.0    1\n",
       "Name: MasVnrArea, Length: 326, dtype: int64"
      ]
     },
     "execution_count": 44,
     "metadata": {},
     "output_type": "execute_result"
    }
   ],
   "source": [
    "train_df.MasVnrArea[train_df.MasVnrArea!=0].sort_values().value_counts()"
   ]
  },
  {
   "cell_type": "code",
   "execution_count": 45,
   "id": "9becbe59",
   "metadata": {},
   "outputs": [
    {
     "data": {
      "text/plain": [
       "203.0"
      ]
     },
     "execution_count": 45,
     "metadata": {},
     "output_type": "execute_result"
    }
   ],
   "source": [
    "# Let us check for the median of non-zero MasVnrArea values.\n",
    "MasVnrArea_med = train_df.MasVnrArea[train_df.MasVnrArea!=0].median()\n",
    "MasVnrArea_med"
   ]
  },
  {
   "cell_type": "code",
   "execution_count": 46,
   "id": "d2819a6e",
   "metadata": {},
   "outputs": [],
   "source": [
    "# Let us update above median value in the field 'MasVnrArea'\n",
    "train_df.MasVnrArea = train_df.MasVnrArea.fillna(MasVnrArea_med)"
   ]
  },
  {
   "cell_type": "markdown",
   "id": "9f5db0a0",
   "metadata": {},
   "source": [
    "#### Updating 'GarageYrBlt' field with value 0"
   ]
  },
  {
   "cell_type": "code",
   "execution_count": 47,
   "id": "4d075d9d",
   "metadata": {},
   "outputs": [
    {
     "data": {
      "text/plain": [
       "2005.0    65\n",
       "2006.0    59\n",
       "2004.0    53\n",
       "2003.0    50\n",
       "2007.0    49\n",
       "          ..\n",
       "1927.0     1\n",
       "1900.0     1\n",
       "1906.0     1\n",
       "1908.0     1\n",
       "1933.0     1\n",
       "Name: GarageYrBlt, Length: 97, dtype: int64"
      ]
     },
     "execution_count": 47,
     "metadata": {},
     "output_type": "execute_result"
    }
   ],
   "source": [
    "train_df.GarageYrBlt.value_counts()"
   ]
  },
  {
   "cell_type": "code",
   "execution_count": 48,
   "id": "0fb4c17d",
   "metadata": {},
   "outputs": [],
   "source": [
    "train_df.GarageYrBlt = train_df.GarageYrBlt.fillna(0)"
   ]
  },
  {
   "cell_type": "code",
   "execution_count": 49,
   "id": "9220f037",
   "metadata": {},
   "outputs": [
    {
     "data": {
      "text/plain": [
       "0.0       81\n",
       "2005.0    65\n",
       "2006.0    59\n",
       "2004.0    53\n",
       "2003.0    50\n",
       "          ..\n",
       "1927.0     1\n",
       "1900.0     1\n",
       "1906.0     1\n",
       "1908.0     1\n",
       "1933.0     1\n",
       "Name: GarageYrBlt, Length: 98, dtype: int64"
      ]
     },
     "execution_count": 49,
     "metadata": {},
     "output_type": "execute_result"
    }
   ],
   "source": [
    "train_df.GarageYrBlt.value_counts()"
   ]
  },
  {
   "cell_type": "code",
   "execution_count": 50,
   "id": "6cd29214",
   "metadata": {
    "scrolled": false
   },
   "outputs": [
    {
     "name": "stdout",
     "output_type": "stream",
     "text": [
      "<class 'pandas.core.frame.DataFrame'>\n",
      "RangeIndex: 1460 entries, 0 to 1459\n",
      "Data columns (total 81 columns):\n",
      " #   Column         Non-Null Count  Dtype  \n",
      "---  ------         --------------  -----  \n",
      " 0   Id             1460 non-null   int64  \n",
      " 1   MSSubClass     1460 non-null   int64  \n",
      " 2   MSZoning       1460 non-null   object \n",
      " 3   LotFrontage    1460 non-null   float64\n",
      " 4   LotArea        1460 non-null   int64  \n",
      " 5   Street         1460 non-null   object \n",
      " 6   Alley          1460 non-null   object \n",
      " 7   LotShape       1460 non-null   object \n",
      " 8   LandContour    1460 non-null   object \n",
      " 9   Utilities      1460 non-null   object \n",
      " 10  LotConfig      1460 non-null   object \n",
      " 11  LandSlope      1460 non-null   object \n",
      " 12  Neighborhood   1460 non-null   object \n",
      " 13  Condition1     1460 non-null   object \n",
      " 14  Condition2     1460 non-null   object \n",
      " 15  BldgType       1460 non-null   object \n",
      " 16  HouseStyle     1460 non-null   object \n",
      " 17  OverallQual    1460 non-null   int64  \n",
      " 18  OverallCond    1460 non-null   int64  \n",
      " 19  YearBuilt      1460 non-null   int64  \n",
      " 20  YearRemodAdd   1460 non-null   int64  \n",
      " 21  RoofStyle      1460 non-null   object \n",
      " 22  RoofMatl       1460 non-null   object \n",
      " 23  Exterior1st    1460 non-null   object \n",
      " 24  Exterior2nd    1460 non-null   object \n",
      " 25  MasVnrType     1460 non-null   object \n",
      " 26  MasVnrArea     1460 non-null   float64\n",
      " 27  ExterQual      1460 non-null   object \n",
      " 28  ExterCond      1460 non-null   object \n",
      " 29  Foundation     1460 non-null   object \n",
      " 30  BsmtQual       1460 non-null   object \n",
      " 31  BsmtCond       1460 non-null   object \n",
      " 32  BsmtExposure   1460 non-null   object \n",
      " 33  BsmtFinType1   1460 non-null   object \n",
      " 34  BsmtFinSF1     1460 non-null   int64  \n",
      " 35  BsmtFinType2   1460 non-null   object \n",
      " 36  BsmtFinSF2     1460 non-null   int64  \n",
      " 37  BsmtUnfSF      1460 non-null   int64  \n",
      " 38  TotalBsmtSF    1460 non-null   int64  \n",
      " 39  Heating        1460 non-null   object \n",
      " 40  HeatingQC      1460 non-null   object \n",
      " 41  CentralAir     1460 non-null   object \n",
      " 42  Electrical     1460 non-null   object \n",
      " 43  1stFlrSF       1460 non-null   int64  \n",
      " 44  2ndFlrSF       1460 non-null   int64  \n",
      " 45  LowQualFinSF   1460 non-null   int64  \n",
      " 46  GrLivArea      1460 non-null   int64  \n",
      " 47  BsmtFullBath   1460 non-null   int64  \n",
      " 48  BsmtHalfBath   1460 non-null   int64  \n",
      " 49  FullBath       1460 non-null   int64  \n",
      " 50  HalfBath       1460 non-null   int64  \n",
      " 51  BedroomAbvGr   1460 non-null   int64  \n",
      " 52  KitchenAbvGr   1460 non-null   int64  \n",
      " 53  KitchenQual    1460 non-null   object \n",
      " 54  TotRmsAbvGrd   1460 non-null   int64  \n",
      " 55  Functional     1460 non-null   object \n",
      " 56  Fireplaces     1460 non-null   int64  \n",
      " 57  FireplaceQu    1460 non-null   object \n",
      " 58  GarageType     1460 non-null   object \n",
      " 59  GarageYrBlt    1460 non-null   float64\n",
      " 60  GarageFinish   1460 non-null   object \n",
      " 61  GarageCars     1460 non-null   int64  \n",
      " 62  GarageArea     1460 non-null   int64  \n",
      " 63  GarageQual     1460 non-null   object \n",
      " 64  GarageCond     1460 non-null   object \n",
      " 65  PavedDrive     1460 non-null   object \n",
      " 66  WoodDeckSF     1460 non-null   int64  \n",
      " 67  OpenPorchSF    1460 non-null   int64  \n",
      " 68  EnclosedPorch  1460 non-null   int64  \n",
      " 69  3SsnPorch      1460 non-null   int64  \n",
      " 70  ScreenPorch    1460 non-null   int64  \n",
      " 71  PoolArea       1460 non-null   int64  \n",
      " 72  PoolQC         1460 non-null   object \n",
      " 73  Fence          1460 non-null   object \n",
      " 74  MiscFeature    1460 non-null   object \n",
      " 75  MiscVal        1460 non-null   int64  \n",
      " 76  MoSold         1460 non-null   int64  \n",
      " 77  YrSold         1460 non-null   int64  \n",
      " 78  SaleType       1460 non-null   object \n",
      " 79  SaleCondition  1460 non-null   object \n",
      " 80  SalePrice      1460 non-null   int64  \n",
      "dtypes: float64(3), int64(35), object(43)\n",
      "memory usage: 924.0+ KB\n"
     ]
    }
   ],
   "source": [
    "train_df.info()"
   ]
  },
  {
   "cell_type": "code",
   "execution_count": 51,
   "id": "ed5d4d53",
   "metadata": {},
   "outputs": [
    {
     "data": {
      "text/plain": [
       "[]"
      ]
     },
     "execution_count": 51,
     "metadata": {},
     "output_type": "execute_result"
    }
   ],
   "source": [
    "train_df.columns[train_df.isna().any()].to_list()"
   ]
  },
  {
   "cell_type": "code",
   "execution_count": 77,
   "id": "1f35fccc",
   "metadata": {},
   "outputs": [
    {
     "data": {
      "text/plain": [
       "Index(['Id', 'MSSubClass', 'MSZoning', 'LotFrontage', 'LotArea', 'Street',\n",
       "       'Alley', 'LotShape', 'LandContour', 'Utilities', 'LotConfig',\n",
       "       'LandSlope', 'Neighborhood', 'Condition1', 'Condition2', 'BldgType',\n",
       "       'HouseStyle', 'OverallQual', 'OverallCond', 'YearBuilt', 'YearRemodAdd',\n",
       "       'RoofStyle', 'RoofMatl', 'Exterior1st', 'Exterior2nd', 'MasVnrType',\n",
       "       'MasVnrArea', 'ExterQual', 'ExterCond', 'Foundation', 'BsmtQual',\n",
       "       'BsmtCond', 'BsmtExposure', 'BsmtFinType1', 'BsmtFinSF1',\n",
       "       'BsmtFinType2', 'BsmtFinSF2', 'BsmtUnfSF', 'TotalBsmtSF', 'Heating',\n",
       "       'HeatingQC', 'CentralAir', 'Electrical', '1stFlrSF', '2ndFlrSF',\n",
       "       'LowQualFinSF', 'GrLivArea', 'BsmtFullBath', 'BsmtHalfBath', 'FullBath',\n",
       "       'HalfBath', 'BedroomAbvGr', 'KitchenAbvGr', 'KitchenQual',\n",
       "       'TotRmsAbvGrd', 'Functional', 'Fireplaces', 'FireplaceQu', 'GarageType',\n",
       "       'GarageYrBlt', 'GarageFinish', 'GarageCars', 'GarageArea', 'GarageQual',\n",
       "       'GarageCond', 'PavedDrive', 'WoodDeckSF', 'OpenPorchSF',\n",
       "       'EnclosedPorch', '3SsnPorch', 'ScreenPorch', 'PoolArea', 'PoolQC',\n",
       "       'Fence', 'MiscFeature', 'MiscVal', 'MoSold', 'YrSold', 'SaleType',\n",
       "       'SaleCondition', 'SalePrice'],\n",
       "      dtype='object')"
      ]
     },
     "execution_count": 77,
     "metadata": {},
     "output_type": "execute_result"
    }
   ],
   "source": [
    "train_df.columns"
   ]
  },
  {
   "cell_type": "code",
   "execution_count": 84,
   "id": "3b221298",
   "metadata": {},
   "outputs": [
    {
     "data": {
      "text/plain": [
       "True"
      ]
     },
     "execution_count": 84,
     "metadata": {},
     "output_type": "execute_result"
    }
   ],
   "source": [
    "train_df['MSZoning'].dtype == 'object'"
   ]
  },
  {
   "cell_type": "markdown",
   "id": "727faad8",
   "metadata": {},
   "source": [
    "### As mentioned earlier, let us check for the fields with a data items appearing more than 80% in the respective column."
   ]
  },
  {
   "cell_type": "code",
   "execution_count": 106,
   "id": "cc1a6d73",
   "metadata": {
    "scrolled": false
   },
   "outputs": [
    {
     "name": "stdout",
     "output_type": "stream",
     "text": [
      "6 object Street 99.58904109589041\n",
      "7 object Alley 93.76712328767123\n",
      "9 object LandContour 89.7945205479452\n",
      "10 object Utilities 99.93150684931507\n",
      "12 object LandSlope 94.65753424657535\n",
      "14 object Condition1 86.3013698630137\n",
      "15 object Condition2 98.97260273972603\n",
      "16 object BldgType 83.56164383561644\n",
      "23 object RoofMatl 98.21917808219179\n",
      "29 object ExterCond 87.8082191780822\n",
      "32 object BsmtCond 89.7945205479452\n",
      "36 object BsmtFinType2 86.02739726027397\n",
      "40 object Heating 97.80821917808218\n",
      "42 object CentralAir 93.4931506849315\n",
      "43 object Electrical 91.36986301369862\n",
      "56 object Functional 93.15068493150685\n",
      "64 object GarageQual 89.7945205479452\n",
      "65 object GarageCond 90.82191780821918\n",
      "66 object PavedDrive 91.78082191780823\n",
      "73 object PoolQC 99.52054794520548\n",
      "74 object Fence 80.75342465753424\n",
      "75 object MiscFeature 96.30136986301369\n",
      "79 object SaleType 86.78082191780821\n",
      "80 object SaleCondition 82.05479452054794\n",
      "['Street', 'Alley', 'LandContour', 'Utilities', 'LandSlope', 'Condition1', 'Condition2', 'BldgType', 'RoofMatl', 'ExterCond', 'BsmtCond', 'BsmtFinType2', 'Heating', 'CentralAir', 'Electrical', 'Functional', 'GarageQual', 'GarageCond', 'PavedDrive', 'PoolQC', 'Fence', 'MiscFeature', 'SaleType', 'SaleCondition']\n"
     ]
    }
   ],
   "source": [
    "Cols_to_remove = []\n",
    "for i in range(0,train_df.shape[1]):\n",
    "    if train_df[train_df.columns[i]].dtype == 'object':\n",
    "        if train_df[train_df.columns[i]].value_counts().max()/1460*100 > 80:\n",
    "            print(i+1,train_df[train_df.columns[i]].dtype, train_df.columns[i], train_df[train_df.columns[i]].value_counts().max()/1460*100) \n",
    "            Cols_to_remove.append(train_df.columns[i])\n",
    "        # print(train_df.BsmtCond.value_counts().max()/1460*100)\n",
    "print(Cols_to_remove)   "
   ]
  },
  {
   "cell_type": "code",
   "execution_count": 109,
   "id": "749d56b7",
   "metadata": {},
   "outputs": [
    {
     "name": "stdout",
     "output_type": "stream",
     "text": [
      "<class 'pandas.core.frame.DataFrame'>\n",
      "RangeIndex: 1460 entries, 0 to 1459\n",
      "Data columns (total 57 columns):\n",
      " #   Column         Non-Null Count  Dtype  \n",
      "---  ------         --------------  -----  \n",
      " 0   Id             1460 non-null   int64  \n",
      " 1   MSSubClass     1460 non-null   int64  \n",
      " 2   MSZoning       1460 non-null   object \n",
      " 3   LotFrontage    1460 non-null   float64\n",
      " 4   LotArea        1460 non-null   int64  \n",
      " 5   LotShape       1460 non-null   object \n",
      " 6   LotConfig      1460 non-null   object \n",
      " 7   Neighborhood   1460 non-null   object \n",
      " 8   HouseStyle     1460 non-null   object \n",
      " 9   OverallQual    1460 non-null   int64  \n",
      " 10  OverallCond    1460 non-null   int64  \n",
      " 11  YearBuilt      1460 non-null   int64  \n",
      " 12  YearRemodAdd   1460 non-null   int64  \n",
      " 13  RoofStyle      1460 non-null   object \n",
      " 14  Exterior1st    1460 non-null   object \n",
      " 15  Exterior2nd    1460 non-null   object \n",
      " 16  MasVnrType     1460 non-null   object \n",
      " 17  MasVnrArea     1460 non-null   float64\n",
      " 18  ExterQual      1460 non-null   object \n",
      " 19  Foundation     1460 non-null   object \n",
      " 20  BsmtQual       1460 non-null   object \n",
      " 21  BsmtExposure   1460 non-null   object \n",
      " 22  BsmtFinType1   1460 non-null   object \n",
      " 23  BsmtFinSF1     1460 non-null   int64  \n",
      " 24  BsmtFinSF2     1460 non-null   int64  \n",
      " 25  BsmtUnfSF      1460 non-null   int64  \n",
      " 26  TotalBsmtSF    1460 non-null   int64  \n",
      " 27  HeatingQC      1460 non-null   object \n",
      " 28  1stFlrSF       1460 non-null   int64  \n",
      " 29  2ndFlrSF       1460 non-null   int64  \n",
      " 30  LowQualFinSF   1460 non-null   int64  \n",
      " 31  GrLivArea      1460 non-null   int64  \n",
      " 32  BsmtFullBath   1460 non-null   int64  \n",
      " 33  BsmtHalfBath   1460 non-null   int64  \n",
      " 34  FullBath       1460 non-null   int64  \n",
      " 35  HalfBath       1460 non-null   int64  \n",
      " 36  BedroomAbvGr   1460 non-null   int64  \n",
      " 37  KitchenAbvGr   1460 non-null   int64  \n",
      " 38  KitchenQual    1460 non-null   object \n",
      " 39  TotRmsAbvGrd   1460 non-null   int64  \n",
      " 40  Fireplaces     1460 non-null   int64  \n",
      " 41  FireplaceQu    1460 non-null   object \n",
      " 42  GarageType     1460 non-null   object \n",
      " 43  GarageYrBlt    1460 non-null   float64\n",
      " 44  GarageFinish   1460 non-null   object \n",
      " 45  GarageCars     1460 non-null   int64  \n",
      " 46  GarageArea     1460 non-null   int64  \n",
      " 47  WoodDeckSF     1460 non-null   int64  \n",
      " 48  OpenPorchSF    1460 non-null   int64  \n",
      " 49  EnclosedPorch  1460 non-null   int64  \n",
      " 50  3SsnPorch      1460 non-null   int64  \n",
      " 51  ScreenPorch    1460 non-null   int64  \n",
      " 52  PoolArea       1460 non-null   int64  \n",
      " 53  MiscVal        1460 non-null   int64  \n",
      " 54  MoSold         1460 non-null   int64  \n",
      " 55  YrSold         1460 non-null   int64  \n",
      " 56  SalePrice      1460 non-null   int64  \n",
      "dtypes: float64(3), int64(35), object(19)\n",
      "memory usage: 650.3+ KB\n"
     ]
    }
   ],
   "source": [
    "# Let us drop these columns\n",
    "train_df2 = train_df.drop(Cols_to_remove, axis=1)\n",
    "train_df2.info()"
   ]
  },
  {
   "cell_type": "code",
   "execution_count": null,
   "id": "c2765d76",
   "metadata": {},
   "outputs": [],
   "source": []
  },
  {
   "cell_type": "code",
   "execution_count": null,
   "id": "14f57e5f",
   "metadata": {},
   "outputs": [],
   "source": []
  },
  {
   "cell_type": "code",
   "execution_count": null,
   "id": "7ccae304",
   "metadata": {
    "scrolled": false
   },
   "outputs": [],
   "source": []
  },
  {
   "cell_type": "code",
   "execution_count": null,
   "id": "9ae8d818",
   "metadata": {},
   "outputs": [],
   "source": []
  },
  {
   "cell_type": "code",
   "execution_count": null,
   "id": "c9724c0d",
   "metadata": {},
   "outputs": [],
   "source": []
  },
  {
   "cell_type": "code",
   "execution_count": null,
   "id": "10928636",
   "metadata": {},
   "outputs": [],
   "source": []
  },
  {
   "cell_type": "code",
   "execution_count": null,
   "id": "6eeb189c",
   "metadata": {},
   "outputs": [],
   "source": []
  },
  {
   "cell_type": "code",
   "execution_count": null,
   "id": "6c60cc95",
   "metadata": {},
   "outputs": [],
   "source": []
  },
  {
   "cell_type": "code",
   "execution_count": null,
   "id": "421202e7",
   "metadata": {},
   "outputs": [],
   "source": []
  },
  {
   "cell_type": "code",
   "execution_count": null,
   "id": "d9284749",
   "metadata": {},
   "outputs": [],
   "source": []
  },
  {
   "cell_type": "code",
   "execution_count": null,
   "id": "6c199a75",
   "metadata": {},
   "outputs": [],
   "source": []
  },
  {
   "cell_type": "code",
   "execution_count": null,
   "id": "74da8f3a",
   "metadata": {},
   "outputs": [],
   "source": []
  },
  {
   "cell_type": "code",
   "execution_count": null,
   "id": "1da43ed7",
   "metadata": {},
   "outputs": [],
   "source": []
  },
  {
   "cell_type": "code",
   "execution_count": null,
   "id": "00cbf63f",
   "metadata": {},
   "outputs": [],
   "source": []
  },
  {
   "cell_type": "code",
   "execution_count": null,
   "id": "42813666",
   "metadata": {},
   "outputs": [],
   "source": []
  }
 ],
 "metadata": {
  "kernelspec": {
   "display_name": "Python 3 (ipykernel)",
   "language": "python",
   "name": "python3"
  },
  "language_info": {
   "codemirror_mode": {
    "name": "ipython",
    "version": 3
   },
   "file_extension": ".py",
   "mimetype": "text/x-python",
   "name": "python",
   "nbconvert_exporter": "python",
   "pygments_lexer": "ipython3",
   "version": "3.9.13"
  }
 },
 "nbformat": 4,
 "nbformat_minor": 5
}
